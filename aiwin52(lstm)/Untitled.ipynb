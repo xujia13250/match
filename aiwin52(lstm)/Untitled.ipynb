{
 "cells": [
  {
   "cell_type": "code",
   "execution_count": 1,
   "metadata": {},
   "outputs": [],
   "source": [
    "import pandas as pd\n",
    "import numpy as np\n",
    "import os"
   ]
  },
  {
   "cell_type": "code",
   "execution_count": 64,
   "metadata": {},
   "outputs": [],
   "source": [
    "path = os.getcwd()\n",
    "test = pd.read_csv(path+'\\Quant_Public_Data_March\\预测目标.测试集.csv')\n",
    "train = pd.read_csv(path+'\\Quant_Public_Data_March\\预测目标.训练集.csv')\n",
    "mkt_data = pd.read_csv(path+'\\Quant_Public_Data_March\\市场数据.训练集.日.csv')\n",
    "fin_monthly_data = pd.read_csv(path+'\\Quant_Public_Data_March\\经济数据.训练集.月.csv')\n",
    "fin_seasonly_data = pd.read_csv(path+'\\Quant_Public_Data_March\\经济数据.训练集.季.csv')\n",
    "fin_yearly_data = pd.read_csv(path+'\\Quant_Public_Data_March\\经济数据.训练数据.年.csv')\n",
    "fin_est_data = pd.read_csv(path+'\\Quant_Public_Data_March\\房地产数据.训练集.月.csv')"
   ]
  },
  {
   "cell_type": "code",
   "execution_count": 65,
   "metadata": {},
   "outputs": [],
   "source": [
    "# 将非日数据转化为日数据\n",
    "fin_est_data[['biz_date']] = fin_est_data['biz_month']+'-01'\n",
    "#fin_yearly_data[['biz_year']] = fin_yearly_data['biz_year']+'-01-01'   类型不一致\n",
    "fin_seasonly_data[['biz_date']] = fin_seasonly_data['biz_season']+'-01'\n",
    "fin_monthly_data[['biz_date']] = fin_monthly_data['biz_month']+'-01'\n",
    "\n",
    "del fin_est_data['biz_month']\n",
    "del fin_seasonly_data['biz_season']\n",
    "del fin_monthly_data['biz_month']\n",
    "\n",
    "#先做cdb类型的\n",
    "#cdb = [c for c in train.columns if 'cdb' in c]\n",
    "\n",
    "\n",
    "# 所有字段拼接起来\n",
    "train_data = pd.merge(pd.merge(pd.merge(pd.merge(train,mkt_data,on = ['biz_date'],how='outer'),\n",
    "                                       fin_est_data,on = ['biz_date'],how='outer'),\n",
    "                              fin_seasonly_data,on = ['biz_date'],how='outer'),\n",
    "                     fin_monthly_data,on = ['biz_date'],how='outer')\n",
    "#test_data.to_csv('test_data.csv',index=False,header=True) \n",
    "\n",
    "del train_data['Unnamed: 5']\n",
    "#test_target = [c for c in train.columns if 'treasury_bond_rate_10y' in c]\n",
    "target = [c for c in train_data.columns if 'treasury_bond_rate_10y' in c]\n",
    "#feature = [c for c in train_data.columns if 'treasury_bond_rate_10y' not in c  and 'biz_date' not in c]\n",
    "#train_data = train[target]\n"
   ]
  },
  {
   "cell_type": "code",
   "execution_count": 66,
   "metadata": {},
   "outputs": [],
   "source": [
    "#train_data.iloc[0,4]>'2002-01-05'\n",
    "train_data = train_data[train_data['biz_date']<='2021-02-18']\n",
    "# train_data = train_data[train_data['biz_date']>='2010-01-01']\n",
    "train_data = train_data[train_data['treasury_bond_rate_10y'].notna()]\n",
    "train_data = train_data.fillna(0)\n",
    "train_data = train_data.sort_values(by='biz_date') \n",
    "#train_data = pd.DataFrame(train_data,index=['biz_date'])\n",
    "#train_data.to_csv('data.csv',index=False,header=True) \n",
    "train_data= train_data.set_index('biz_date')"
   ]
  },
  {
   "cell_type": "code",
   "execution_count": 67,
   "metadata": {},
   "outputs": [],
   "source": [
    "# train_data.to_csv('data1.csv',index=True,header=True) "
   ]
  },
  {
   "cell_type": "code",
   "execution_count": 69,
   "metadata": {},
   "outputs": [],
   "source": [
    "# def sliceWindow(data,target,step): \n",
    "#     X,y=[],[]  \n",
    "#     for i in range(0,len(np.array(data))-step,1):  \n",
    "#         end=i+step       \n",
    "#         oneX,oney=np.array(data)[i:end,:],np.array(data[target])[end, :]  \n",
    "#         X.append(oneX)  \n",
    "#         y.append(oney)  \n",
    "#     return np.array(X),np.array(y)  \n",
    "\n",
    "def sliceWindow(data,target,step): \n",
    "    X,y=[],[]  \n",
    "    for i in range(0,len(np.array(data))-2*step,1):  \n",
    "        end=i+step       \n",
    "        oneX,oney=np.array(data)[i:end,:],np.array(data[target])[end:end+step, :]  \n",
    "        X.append(oneX)  \n",
    "        y.append(oney)  \n",
    "    return np.array(X),np.array(y)  \n",
    "\n"
   ]
  },
  {
   "cell_type": "code",
   "execution_count": 70,
   "metadata": {},
   "outputs": [],
   "source": [
    "def dataSplit(dataset,target,step,ratio=0.70):  \n",
    "    datasetX,datasetY=sliceWindow(dataset,target,step)  \n",
    "    train_size=int(len(datasetX)*ratio)  \n",
    "    X_train,y_train=datasetX[0:train_size,:],datasetY[0:train_size,:] \n",
    "    X_test,y_test=datasetX[train_size:len(datasetX),:],datasetY[train_size:len(datasetX),:]  \n",
    "    X_train=X_train.reshape(X_train.shape[0],step,-1)  \n",
    "    X_test=X_test.reshape(X_test.shape[0],step,-1)\n",
    "    y_train = y_train.reshape(y_train.shape[0],step,-1)\n",
    "    y_test = y_test.reshape(y_test.shape[0],step,-1)\n",
    "    print('X_train.shape: ',X_train.shape)  \n",
    "    print('X_test.shape: ',X_test.shape)  \n",
    "    print('y_train.shape: ',y_train.shape)  \n",
    "    print('y_test.shape: ',y_test.shape)  \n",
    "    return X_train,X_test,y_train,y_test  "
   ]
  },
  {
   "cell_type": "code",
   "execution_count": 71,
   "metadata": {},
   "outputs": [
    {
     "name": "stdout",
     "output_type": "stream",
     "text": [
      "X_train.shape:  (3301, 30, 44)\n",
      "X_test.shape:  (1416, 30, 44)\n",
      "y_train.shape:  (3301, 30, 1)\n",
      "y_test.shape:  (1416, 30, 1)\n"
     ]
    }
   ],
   "source": [
    "from sklearn import preprocessing\n",
    "#train_data = pd.DataFrame(preprocessing.scale(train_data),columns = train_data.columns)\n",
    "X_train,X_test,y_train,y_test  = dataSplit(train_data,target,step=30)"
   ]
  },
  {
   "cell_type": "code",
   "execution_count": 72,
   "metadata": {},
   "outputs": [
    {
     "name": "stdout",
     "output_type": "stream",
     "text": [
      "Model: \"sequential_4\"\n",
      "_________________________________________________________________\n",
      "Layer (type)                 Output Shape              Param #   \n",
      "=================================================================\n",
      "lstm_12 (LSTM)               (None, 30, 128)           88576     \n",
      "_________________________________________________________________\n",
      "lstm_13 (LSTM)               (None, 30, 256)           394240    \n",
      "_________________________________________________________________\n",
      "dropout_4 (Dropout)          (None, 30, 256)           0         \n",
      "_________________________________________________________________\n",
      "lstm_14 (LSTM)               (None, 128)               197120    \n",
      "_________________________________________________________________\n",
      "dense_4 (Dense)              (None, 30)                3870      \n",
      "=================================================================\n",
      "Total params: 683,806\n",
      "Trainable params: 683,806\n",
      "Non-trainable params: 0\n",
      "_________________________________________________________________\n",
      "None\n"
     ]
    }
   ],
   "source": [
    "# 创建模型\n",
    "from keras.models import Sequential\n",
    "from keras.layers import Dense, Activation,LSTM,Dropout\n",
    "from keras.optimizers import Adam\n",
    "\n",
    "model = Sequential()\n",
    "\n",
    "model.add(LSTM(128, input_shape=(X_train.shape[1],X_train.shape[2]),activation='sigmoid', return_sequences=True, dropout=0.1))\n",
    "model.add(LSTM(256, activation='sigmoid', return_sequences=True, dropout=0.01))\n",
    "model.add(Dropout(rate=0.1))\n",
    "model.add(LSTM(128, activation='sigmoid', dropout=0.2))\n",
    "model.add(Dense(y_train.shape[1]))\n",
    "model.compile(loss='mae', optimizer=Adam(lr=0.002, decay=0.01))\n",
    "\n",
    "print(model.summary())\n"
   ]
  },
  {
   "cell_type": "code",
   "execution_count": 85,
   "metadata": {
    "scrolled": false
   },
   "outputs": [
    {
     "name": "stdout",
     "output_type": "stream",
     "text": [
      "17/17 [==============================] - 17s 1s/step - loss: 0.4943 - val_loss: 0.3318\n"
     ]
    }
   ],
   "source": [
    "# 训练模型\n",
    "import tensorflow as tf\n",
    "tf.config.experimental_run_functions_eagerly(True)\n",
    "history = model.fit(X_train, y_train, epochs=1, batch_size=200, validation_data=(X_test, y_test), shuffle=False)\n"
   ]
  },
  {
   "cell_type": "code",
   "execution_count": 19,
   "metadata": {},
   "outputs": [],
   "source": [
    "model.save(\"model1.h5\")"
   ]
  },
  {
   "cell_type": "code",
   "execution_count": 74,
   "metadata": {},
   "outputs": [
    {
     "data": {
      "image/png": "[encoded data removed]",
      "text/plain": [
       "<Figure size 432x288 with 1 Axes>"
      ]
     },
     "metadata": {
      "needs_background": "light"
     },
     "output_type": "display_data"
    }
   ],
   "source": [
    "import matplotlib.pyplot as plt\n",
    "plt.plot(history.history['loss'], label='train')\n",
    "plt.plot(history.history['val_loss'], label='test')\n",
    "plt.legend()\n",
    "plt.show()"
   ]
  },
  {
   "cell_type": "code",
   "execution_count": 14,
   "metadata": {},
   "outputs": [],
   "source": [
    "# def predictFuture(model,dataset,features,step,next_num):\n",
    "#     lastOne=(dataset[len(dataset)-step:len(dataset)]).reshape(-1,features) \n",
    "#     backData=lastOne.tolist()\n",
    "#     next_predicted_list=[]\n",
    "#     for i in range(next_num): \n",
    "#         one_next=backData[len(backData)-step:] \n",
    "#         one_next=np.array(one_next).reshape(1,step,features) \n",
    "#         next_predicted=model.predict([one_next]) \n",
    "#         next_predicted_list.append(next_predicted[0].tolist()) \n",
    "#         backData.append(next_predicted[0]) \n",
    "#     return next_predicted_list \n"
   ]
  },
  {
   "cell_type": "code",
   "execution_count": 86,
   "metadata": {},
   "outputs": [],
   "source": [
    "pre_train = np.array(train_data.tail(30))"
   ]
  },
  {
   "cell_type": "code",
   "execution_count": 87,
   "metadata": {},
   "outputs": [],
   "source": [
    "pre_train = pre_train.reshape(1,30,44)  "
   ]
  },
  {
   "cell_type": "code",
   "execution_count": 88,
   "metadata": {},
   "outputs": [],
   "source": [
    "\n",
    "y_pre=model.predict(pre_train,verbose=0)"
   ]
  },
  {
   "cell_type": "code",
   "execution_count": 89,
   "metadata": {},
   "outputs": [
    {
     "data": {
      "text/plain": [
       "array([[3.3936722, 3.3921669, 3.3897362, 3.3928425, 3.3945513, 3.3973985,\n",
       "        3.3988185, 3.3996155, 3.4011388, 3.40076  , 3.4017057, 3.4057794,\n",
       "        3.4040484, 3.4089804, 3.3954327, 3.4369617, 3.4359925, 3.452488 ,\n",
       "        3.444436 , 3.4439812, 3.436712 , 3.4196754, 3.4127376, 3.4480426,\n",
       "        3.4485695, 3.4513624, 3.4541104, 3.4549499, 3.451563 , 3.4150825]],\n",
       "      dtype=float32)"
      ]
     },
     "execution_count": 89,
     "metadata": {},
     "output_type": "execute_result"
    }
   ],
   "source": [
    "y_pre"
   ]
  },
  {
   "cell_type": "code",
   "execution_count": 45,
   "metadata": {},
   "outputs": [
    {
     "data": {
      "text/plain": [
       "array([[[1.5995, 2.1518, 2.3646, ..., 0.    , 0.    , 0.    ],\n",
       "        [1.5995, 2.1029, 2.3465, ..., 0.    , 0.    , 0.    ],\n",
       "        [1.4967, 2.0034, 2.2397, ..., 0.    , 0.    , 0.    ],\n",
       "        ...,\n",
       "        [2.0325, 2.2999, 2.3663, ..., 0.    , 0.    , 0.    ],\n",
       "        [1.8575, 2.21  , 2.3663, ..., 0.    , 0.    , 0.    ],\n",
       "        [1.9075, 2.1056, 2.3802, ..., 0.    , 0.    , 0.    ]]])"
      ]
     },
     "execution_count": 45,
     "metadata": {},
     "output_type": "execute_result"
    }
   ],
   "source": [
    "pre_train"
   ]
  },
  {
   "cell_type": "code",
   "execution_count": null,
   "metadata": {},
   "outputs": [],
   "source": []
  }
 ],
 "metadata": {
  "kernelspec": {
   "display_name": "Python 3",
   "language": "python",
   "name": "python3"
  },
  "language_info": {
   "codemirror_mode": {
    "name": "ipython",
    "version": 3
   },
   "file_extension": ".py",
   "mimetype": "text/x-python",
   "name": "python",
   "nbconvert_exporter": "python",
   "pygments_lexer": "ipython3",
   "version": "3.8.5"
  }
 },
 "nbformat": 4,
 "nbformat_minor": 4
}
